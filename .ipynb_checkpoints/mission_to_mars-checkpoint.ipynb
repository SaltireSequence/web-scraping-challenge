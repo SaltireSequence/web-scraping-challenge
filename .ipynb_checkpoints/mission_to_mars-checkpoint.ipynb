{
 "cells": [
  {
   "cell_type": "code",
   "execution_count": 527,
   "metadata": {},
   "outputs": [],
   "source": [
    "################ \n",
    "# DEPENDENCIES #\n",
    "################\n",
    "\n",
    "import pandas as pd\n",
    "pd.options.display.max_colwidth = 100\n",
    "import datetime\n",
    "import requests\n",
    "import time\n",
    "from bs4 import BeautifulSoup\n",
    "from splinter import Browser\n",
    "from webdriver_manager.chrome import ChromeDriverManager"
   ]
  },
  {
   "cell_type": "markdown",
   "metadata": {},
   "source": [
    "# Web Scraping Homework - Mission to Mars #\n"
   ]
  },
  {
   "cell_type": "code",
   "execution_count": 528,
   "metadata": {},
   "outputs": [
    {
     "name": "stderr",
     "output_type": "stream",
     "text": [
      "[WDM] - Current google-chrome version is 83.0.4103\n",
      "[WDM] - Get LATEST driver version for 83.0.4103\n",
      "[WDM] - Driver [/Users/williamforsyth/.wdm/drivers/chromedriver/mac64/83.0.4103.39/chromedriver] found in cache\n"
     ]
    },
    {
     "name": "stdout",
     "output_type": "stream",
     "text": [
      " \n"
     ]
    }
   ],
   "source": [
    "# My site navigation code\n",
    "executable_path = {'executable_path': ChromeDriverManager().install()}\n",
    "browser = Browser('chrome', **executable_path)"
   ]
  },
  {
   "cell_type": "markdown",
   "metadata": {},
   "source": [
    "### NASA Mars News: #"
   ]
  },
  {
   "cell_type": "code",
   "execution_count": 529,
   "metadata": {},
   "outputs": [
    {
     "name": "stdout",
     "output_type": "stream",
     "text": [
      "** The latest NASA Headline is:** 6 Things to Know About NASA's Ingenuity Mars Helicopter\n",
      "** NASA Headline 1st Paragraph:** The first helicopter attempting to fly on another planet is a marvel of engineering. Get up to speed with these key facts about its plans.\n"
     ]
    }
   ],
   "source": [
    "nasa_url = 'https://mars.nasa.gov/news/'\n",
    "browser.visit(nasa_url)\n",
    "time.sleep(1)\n",
    "nasa_html = browser.html\n",
    "nasa_soup = BeautifulSoup(nasa_html, 'html.parser')\n",
    "news_list = nasa_soup.find('ul', class_='item_list')\n",
    "first_item = news_list.find('li', class_='slide')\n",
    "\n",
    "# Saving headline in variable\n",
    "nasa_headline = first_item.find('div', class_='content_title').text\n",
    "# Saving headling paragraph in variable.\n",
    "nasa_para1 = first_item.find('div', class_='article_teaser_body').text\n",
    "\n",
    "print(f'** The latest NASA Headline is:** {nasa_headline}')\n",
    "print(f'** NASA Headline 1st Paragraph:** {nasa_para1}')"
   ]
  },
  {
   "cell_type": "markdown",
   "metadata": {},
   "source": [
    "### JPL Mars Space Images - Featured Image: ###"
   ]
  },
  {
   "cell_type": "code",
   "execution_count": 530,
   "metadata": {},
   "outputs": [],
   "source": [
    "image_url = \"https://www.jpl.nasa.gov/spaceimages/?search=&category=Mars\"\n",
    "browser.visit(image_url)\n",
    "html = browser.html\n",
    "soup = BeautifulSoup(html, \"html.parser\")"
   ]
  },
  {
   "cell_type": "code",
   "execution_count": 531,
   "metadata": {},
   "outputs": [
    {
     "name": "stdout",
     "output_type": "stream",
     "text": [
      " Featured Image URL: https://www.jpl.nasa.gov/spaceimages/images/wallpaper/PIA24004-640x350.jpg\n"
     ]
    }
   ],
   "source": [
    "image = soup.find(\"img\", class_=\"thumb\")[\"src\"]\n",
    "featured_image_url = \"https://www.jpl.nasa.gov\" + image\n",
    "print(f' Featured Image URL: {featured_image_url}')"
   ]
  },
  {
   "cell_type": "markdown",
   "metadata": {},
   "source": [
    "### Mars Weather: ###"
   ]
  },
  {
   "cell_type": "code",
   "execution_count": 532,
   "metadata": {},
   "outputs": [],
   "source": [
    "weather_url = 'https://twitter.com/marswxreport?lang=en'\n",
    "browser.visit(weather_url)\n",
    "time.sleep(1)"
   ]
  },
  {
   "cell_type": "code",
   "execution_count": 533,
   "metadata": {},
   "outputs": [],
   "source": [
    "mars_weather_html = browser.html\n",
    "soup = BeautifulSoup(mars_weather_html, 'html.parser')"
   ]
  },
  {
   "cell_type": "code",
   "execution_count": 534,
   "metadata": {},
   "outputs": [],
   "source": [
    "# a for loop to iterate through and find tweets and append those tweets to a list, for later reference\n",
    "weather_mars = []\n",
    "for content in contents:\n",
    "    tweets = soup.find_all('div', attrs={'data-testid':'tweet'})\n",
    "    weather_mars.append(tweets)"
   ]
  },
  {
   "cell_type": "code",
   "execution_count": 535,
   "metadata": {},
   "outputs": [],
   "source": [
    "tweets = [x.text for x in tweet]"
   ]
  },
  {
   "cell_type": "code",
   "execution_count": 536,
   "metadata": {},
   "outputs": [
    {
     "data": {
      "text/html": [
       "<div>\n",
       "<style scoped>\n",
       "    .dataframe tbody tr th:only-of-type {\n",
       "        vertical-align: middle;\n",
       "    }\n",
       "\n",
       "    .dataframe tbody tr th {\n",
       "        vertical-align: top;\n",
       "    }\n",
       "\n",
       "    .dataframe thead th {\n",
       "        text-align: right;\n",
       "    }\n",
       "</style>\n",
       "<table border=\"1\" class=\"dataframe\">\n",
       "  <thead>\n",
       "    <tr style=\"text-align: right;\">\n",
       "      <th></th>\n",
       "      <th>tweet</th>\n",
       "    </tr>\n",
       "  </thead>\n",
       "  <tbody>\n",
       "    <tr>\n",
       "      <th>0</th>\n",
       "      <td>Mars Weather@MarsWxReport·Jul 15InSight sol 580 (2020-07-14) low -88.8ºC (-127.8ºF) high -8.4ºC ...</td>\n",
       "    </tr>\n",
       "    <tr>\n",
       "      <th>1</th>\n",
       "      <td>Mars Weather@MarsWxReport·Jul 14InSight sol 579 (2020-07-13) low -88.5ºC (-127.4ºF) high -3.7ºC ...</td>\n",
       "    </tr>\n",
       "    <tr>\n",
       "      <th>2</th>\n",
       "      <td>Mars Weather@MarsWxReport·Jul 13InSight sol 578 (2020-07-12) low -88.3ºC (-126.9ºF) high -5.2ºC ...</td>\n",
       "    </tr>\n",
       "    <tr>\n",
       "      <th>3</th>\n",
       "      <td>Tony Rice@rtphokie·Jul 3Next time a launch attempt is scrubbed for weather at @NASAKennedy, reme...</td>\n",
       "    </tr>\n",
       "    <tr>\n",
       "      <th>4</th>\n",
       "      <td>Mars Weather@MarsWxReport·Jul 1InSight sol 566 (2020-06-29) low -88.4ºC (-127.1ºF) high -4.2ºC (...</td>\n",
       "    </tr>\n",
       "    <tr>\n",
       "      <th>5</th>\n",
       "      <td>National Air and Space Museum@airandspace·Jul 1It's our birthday! On this day in 1976, a signal ...</td>\n",
       "    </tr>\n",
       "    <tr>\n",
       "      <th>6</th>\n",
       "      <td>Mars Weather@MarsWxReport·Jun 30Looking forward to getting another set of weather instruments on...</td>\n",
       "    </tr>\n",
       "    <tr>\n",
       "      <th>7</th>\n",
       "      <td>Mars Weather@MarsWxReport·Jun 30InSight sol 565 (2020-06-28) low -89.6ºC (-129.3ºF) high -5.0ºC ...</td>\n",
       "    </tr>\n",
       "    <tr>\n",
       "      <th>8</th>\n",
       "      <td>Mars Weather@MarsWxReport·Jun 28InSight sol 564 (2020-06-28) low -89.3ºC (-128.8ºF) high -4.3ºC ...</td>\n",
       "    </tr>\n",
       "    <tr>\n",
       "      <th>9</th>\n",
       "      <td>Mars Weather@MarsWxReport·Jun 27InSight sol 563 (2020-06-27) low -89.5ºC (-129.1ºF) high -3.9ºC ...</td>\n",
       "    </tr>\n",
       "  </tbody>\n",
       "</table>\n",
       "</div>"
      ],
      "text/plain": [
       "                                                                                                 tweet\n",
       "0  Mars Weather@MarsWxReport·Jul 15InSight sol 580 (2020-07-14) low -88.8ºC (-127.8ºF) high -8.4ºC ...\n",
       "1  Mars Weather@MarsWxReport·Jul 14InSight sol 579 (2020-07-13) low -88.5ºC (-127.4ºF) high -3.7ºC ...\n",
       "2  Mars Weather@MarsWxReport·Jul 13InSight sol 578 (2020-07-12) low -88.3ºC (-126.9ºF) high -5.2ºC ...\n",
       "3  Tony Rice@rtphokie·Jul 3Next time a launch attempt is scrubbed for weather at @NASAKennedy, reme...\n",
       "4  Mars Weather@MarsWxReport·Jul 1InSight sol 566 (2020-06-29) low -88.4ºC (-127.1ºF) high -4.2ºC (...\n",
       "5  National Air and Space Museum@airandspace·Jul 1It's our birthday! On this day in 1976, a signal ...\n",
       "6  Mars Weather@MarsWxReport·Jun 30Looking forward to getting another set of weather instruments on...\n",
       "7  Mars Weather@MarsWxReport·Jun 30InSight sol 565 (2020-06-28) low -89.6ºC (-129.3ºF) high -5.0ºC ...\n",
       "8  Mars Weather@MarsWxReport·Jun 28InSight sol 564 (2020-06-28) low -89.3ºC (-128.8ºF) high -4.3ºC ...\n",
       "9  Mars Weather@MarsWxReport·Jun 27InSight sol 563 (2020-06-27) low -89.5ºC (-129.1ºF) high -3.9ºC ..."
      ]
     },
     "execution_count": 536,
     "metadata": {},
     "output_type": "execute_result"
    }
   ],
   "source": [
    "# Saving the tweets to a DataFrame\n",
    "raw_tweets = pd.DataFrame({'tweet':tweets})\n",
    "raw_tweets"
   ]
  },
  {
   "cell_type": "code",
   "execution_count": 537,
   "metadata": {},
   "outputs": [
    {
     "data": {
      "text/html": [
       "<div>\n",
       "<style scoped>\n",
       "    .dataframe tbody tr th:only-of-type {\n",
       "        vertical-align: middle;\n",
       "    }\n",
       "\n",
       "    .dataframe tbody tr th {\n",
       "        vertical-align: top;\n",
       "    }\n",
       "\n",
       "    .dataframe thead th {\n",
       "        text-align: right;\n",
       "    }\n",
       "</style>\n",
       "<table border=\"1\" class=\"dataframe\">\n",
       "  <thead>\n",
       "    <tr style=\"text-align: right;\">\n",
       "      <th></th>\n",
       "      <th>tweet</th>\n",
       "    </tr>\n",
       "  </thead>\n",
       "  <tbody>\n",
       "    <tr>\n",
       "      <th>0</th>\n",
       "      <td>Mars Weather@MarsWxReport·Jul 15InSight sol 580 (2020-07-14) low -88.8ºC (-127.8ºF) high -8.4ºC ...</td>\n",
       "    </tr>\n",
       "    <tr>\n",
       "      <th>1</th>\n",
       "      <td>Mars Weather@MarsWxReport·Jul 14InSight sol 579 (2020-07-13) low -88.5ºC (-127.4ºF) high -3.7ºC ...</td>\n",
       "    </tr>\n",
       "    <tr>\n",
       "      <th>2</th>\n",
       "      <td>Mars Weather@MarsWxReport·Jul 13InSight sol 578 (2020-07-12) low -88.3ºC (-126.9ºF) high -5.2ºC ...</td>\n",
       "    </tr>\n",
       "    <tr>\n",
       "      <th>4</th>\n",
       "      <td>Mars Weather@MarsWxReport·Jul 1InSight sol 566 (2020-06-29) low -88.4ºC (-127.1ºF) high -4.2ºC (...</td>\n",
       "    </tr>\n",
       "    <tr>\n",
       "      <th>7</th>\n",
       "      <td>Mars Weather@MarsWxReport·Jun 30InSight sol 565 (2020-06-28) low -89.6ºC (-129.3ºF) high -5.0ºC ...</td>\n",
       "    </tr>\n",
       "    <tr>\n",
       "      <th>8</th>\n",
       "      <td>Mars Weather@MarsWxReport·Jun 28InSight sol 564 (2020-06-28) low -89.3ºC (-128.8ºF) high -4.3ºC ...</td>\n",
       "    </tr>\n",
       "    <tr>\n",
       "      <th>9</th>\n",
       "      <td>Mars Weather@MarsWxReport·Jun 27InSight sol 563 (2020-06-27) low -89.5ºC (-129.1ºF) high -3.9ºC ...</td>\n",
       "    </tr>\n",
       "  </tbody>\n",
       "</table>\n",
       "</div>"
      ],
      "text/plain": [
       "                                                                                                 tweet\n",
       "0  Mars Weather@MarsWxReport·Jul 15InSight sol 580 (2020-07-14) low -88.8ºC (-127.8ºF) high -8.4ºC ...\n",
       "1  Mars Weather@MarsWxReport·Jul 14InSight sol 579 (2020-07-13) low -88.5ºC (-127.4ºF) high -3.7ºC ...\n",
       "2  Mars Weather@MarsWxReport·Jul 13InSight sol 578 (2020-07-12) low -88.3ºC (-126.9ºF) high -5.2ºC ...\n",
       "4  Mars Weather@MarsWxReport·Jul 1InSight sol 566 (2020-06-29) low -88.4ºC (-127.1ºF) high -4.2ºC (...\n",
       "7  Mars Weather@MarsWxReport·Jun 30InSight sol 565 (2020-06-28) low -89.6ºC (-129.3ºF) high -5.0ºC ...\n",
       "8  Mars Weather@MarsWxReport·Jun 28InSight sol 564 (2020-06-28) low -89.3ºC (-128.8ºF) high -4.3ºC ...\n",
       "9  Mars Weather@MarsWxReport·Jun 27InSight sol 563 (2020-06-27) low -89.5ºC (-129.1ºF) high -3.9ºC ..."
      ]
     },
     "execution_count": 537,
     "metadata": {},
     "output_type": "execute_result"
    }
   ],
   "source": [
    "# Removing tweets that do not contain 'InSight' and thus not Mars weather reports\n",
    "weather_tweets = raw_tweets[raw_tweets.tweet.str.contains(\"InSight\")]\n",
    "weather_tweets"
   ]
  },
  {
   "cell_type": "code",
   "execution_count": 538,
   "metadata": {},
   "outputs": [
    {
     "name": "stderr",
     "output_type": "stream",
     "text": [
      "/Users/williamforsyth/anaconda3/envs/DataScience/lib/python3.7/site-packages/ipykernel_launcher.py:2: SettingWithCopyWarning: \n",
      "A value is trying to be set on a copy of a slice from a DataFrame.\n",
      "Try using .loc[row_indexer,col_indexer] = value instead\n",
      "\n",
      "See the caveats in the documentation: https://pandas.pydata.org/pandas-docs/stable/user_guide/indexing.html#returning-a-view-versus-a-copy\n",
      "  \n"
     ]
    },
    {
     "data": {
      "text/html": [
       "<div>\n",
       "<style scoped>\n",
       "    .dataframe tbody tr th:only-of-type {\n",
       "        vertical-align: middle;\n",
       "    }\n",
       "\n",
       "    .dataframe tbody tr th {\n",
       "        vertical-align: top;\n",
       "    }\n",
       "\n",
       "    .dataframe thead th {\n",
       "        text-align: right;\n",
       "    }\n",
       "</style>\n",
       "<table border=\"1\" class=\"dataframe\">\n",
       "  <thead>\n",
       "    <tr style=\"text-align: right;\">\n",
       "      <th></th>\n",
       "      <th>tweet</th>\n",
       "      <th>weather</th>\n",
       "    </tr>\n",
       "  </thead>\n",
       "  <tbody>\n",
       "    <tr>\n",
       "      <th>0</th>\n",
       "      <td>Mars Weather@MarsWxReport·Jul 15InSight sol 580 (2020-07-14) low -88.8ºC (-127.8ºF) high -8.4ºC ...</td>\n",
       "      <td>InSight sol 580 (2020-07-14) low -88.8ºC (-127.8ºF) high -8.4ºC (16.8ºF)\\nwinds from the WNW at ...</td>\n",
       "    </tr>\n",
       "    <tr>\n",
       "      <th>1</th>\n",
       "      <td>Mars Weather@MarsWxReport·Jul 14InSight sol 579 (2020-07-13) low -88.5ºC (-127.4ºF) high -3.7ºC ...</td>\n",
       "      <td>InSight sol 579 (2020-07-13) low -88.5ºC (-127.4ºF) high -3.7ºC (25.4ºF)\\nwinds from the WNW at ...</td>\n",
       "    </tr>\n",
       "    <tr>\n",
       "      <th>2</th>\n",
       "      <td>Mars Weather@MarsWxReport·Jul 13InSight sol 578 (2020-07-12) low -88.3ºC (-126.9ºF) high -5.2ºC ...</td>\n",
       "      <td>InSight sol 578 (2020-07-12) low -88.3ºC (-126.9ºF) high -5.2ºC (22.7ºF)\\nwinds from the WNW at ...</td>\n",
       "    </tr>\n",
       "    <tr>\n",
       "      <th>4</th>\n",
       "      <td>Mars Weather@MarsWxReport·Jul 1InSight sol 566 (2020-06-29) low -88.4ºC (-127.1ºF) high -4.2ºC (...</td>\n",
       "      <td>InSight sol 566 (2020-06-29) low -88.4ºC (-127.1ºF) high -4.2ºC (24.4ºF)\\nwinds from the WNW at ...</td>\n",
       "    </tr>\n",
       "    <tr>\n",
       "      <th>7</th>\n",
       "      <td>Mars Weather@MarsWxReport·Jun 30InSight sol 565 (2020-06-28) low -89.6ºC (-129.3ºF) high -5.0ºC ...</td>\n",
       "      <td>InSight sol 565 (2020-06-28) low -89.6ºC (-129.3ºF) high -5.0ºC (22.9ºF)\\nwinds from the WNW at ...</td>\n",
       "    </tr>\n",
       "    <tr>\n",
       "      <th>8</th>\n",
       "      <td>Mars Weather@MarsWxReport·Jun 28InSight sol 564 (2020-06-28) low -89.3ºC (-128.8ºF) high -4.3ºC ...</td>\n",
       "      <td>InSight sol 564 (2020-06-28) low -89.3ºC (-128.8ºF) high -4.3ºC (24.2ºF)\\nwinds from the SSW at ...</td>\n",
       "    </tr>\n",
       "    <tr>\n",
       "      <th>9</th>\n",
       "      <td>Mars Weather@MarsWxReport·Jun 27InSight sol 563 (2020-06-27) low -89.5ºC (-129.1ºF) high -3.9ºC ...</td>\n",
       "      <td>InSight sol 563 (2020-06-27) low -89.5ºC (-129.1ºF) high -3.9ºC (25.0ºF)\\nwinds from the SW at 5...</td>\n",
       "    </tr>\n",
       "  </tbody>\n",
       "</table>\n",
       "</div>"
      ],
      "text/plain": [
       "                                                                                                 tweet  \\\n",
       "0  Mars Weather@MarsWxReport·Jul 15InSight sol 580 (2020-07-14) low -88.8ºC (-127.8ºF) high -8.4ºC ...   \n",
       "1  Mars Weather@MarsWxReport·Jul 14InSight sol 579 (2020-07-13) low -88.5ºC (-127.4ºF) high -3.7ºC ...   \n",
       "2  Mars Weather@MarsWxReport·Jul 13InSight sol 578 (2020-07-12) low -88.3ºC (-126.9ºF) high -5.2ºC ...   \n",
       "4  Mars Weather@MarsWxReport·Jul 1InSight sol 566 (2020-06-29) low -88.4ºC (-127.1ºF) high -4.2ºC (...   \n",
       "7  Mars Weather@MarsWxReport·Jun 30InSight sol 565 (2020-06-28) low -89.6ºC (-129.3ºF) high -5.0ºC ...   \n",
       "8  Mars Weather@MarsWxReport·Jun 28InSight sol 564 (2020-06-28) low -89.3ºC (-128.8ºF) high -4.3ºC ...   \n",
       "9  Mars Weather@MarsWxReport·Jun 27InSight sol 563 (2020-06-27) low -89.5ºC (-129.1ºF) high -3.9ºC ...   \n",
       "\n",
       "                                                                                               weather  \n",
       "0  InSight sol 580 (2020-07-14) low -88.8ºC (-127.8ºF) high -8.4ºC (16.8ºF)\\nwinds from the WNW at ...  \n",
       "1  InSight sol 579 (2020-07-13) low -88.5ºC (-127.4ºF) high -3.7ºC (25.4ºF)\\nwinds from the WNW at ...  \n",
       "2  InSight sol 578 (2020-07-12) low -88.3ºC (-126.9ºF) high -5.2ºC (22.7ºF)\\nwinds from the WNW at ...  \n",
       "4  InSight sol 566 (2020-06-29) low -88.4ºC (-127.1ºF) high -4.2ºC (24.4ºF)\\nwinds from the WNW at ...  \n",
       "7  InSight sol 565 (2020-06-28) low -89.6ºC (-129.3ºF) high -5.0ºC (22.9ºF)\\nwinds from the WNW at ...  \n",
       "8  InSight sol 564 (2020-06-28) low -89.3ºC (-128.8ºF) high -4.3ºC (24.2ºF)\\nwinds from the SSW at ...  \n",
       "9  InSight sol 563 (2020-06-27) low -89.5ºC (-129.1ºF) high -3.9ºC (25.0ºF)\\nwinds from the SW at 5...  "
      ]
     },
     "execution_count": 538,
     "metadata": {},
     "output_type": "execute_result"
    }
   ],
   "source": [
    "# Creating a new 'weather' column and saving the weather portion of the tweet in this column\n",
    "weather_tweets['weather'] = raw_tweets['tweet'].str.replace('.*(?=InSight)', '', regex=True)\n",
    "weather_tweets = pd.DataFrame(weather_tweets)\n",
    "weather_tweets"
   ]
  },
  {
   "cell_type": "code",
   "execution_count": 539,
   "metadata": {},
   "outputs": [
    {
     "data": {
      "text/html": [
       "<div>\n",
       "<style scoped>\n",
       "    .dataframe tbody tr th:only-of-type {\n",
       "        vertical-align: middle;\n",
       "    }\n",
       "\n",
       "    .dataframe tbody tr th {\n",
       "        vertical-align: top;\n",
       "    }\n",
       "\n",
       "    .dataframe thead th {\n",
       "        text-align: right;\n",
       "    }\n",
       "</style>\n",
       "<table border=\"1\" class=\"dataframe\">\n",
       "  <thead>\n",
       "    <tr style=\"text-align: right;\">\n",
       "      <th></th>\n",
       "      <th>tweet</th>\n",
       "      <th>weather</th>\n",
       "      <th>date</th>\n",
       "    </tr>\n",
       "  </thead>\n",
       "  <tbody>\n",
       "    <tr>\n",
       "      <th>0</th>\n",
       "      <td>Mars Weather@MarsWxReport·Jul 15InSight sol 580 (2020-07-14) low -88.8ºC (-127.8ºF) high -8.4ºC ...</td>\n",
       "      <td>InSight sol 580 (2020-07-14) low -88.8ºC (-127.8ºF) high -8.4ºC (16.8ºF)\\nwinds from the WNW at ...</td>\n",
       "      <td>2020-07-14</td>\n",
       "    </tr>\n",
       "    <tr>\n",
       "      <th>1</th>\n",
       "      <td>Mars Weather@MarsWxReport·Jul 14InSight sol 579 (2020-07-13) low -88.5ºC (-127.4ºF) high -3.7ºC ...</td>\n",
       "      <td>InSight sol 579 (2020-07-13) low -88.5ºC (-127.4ºF) high -3.7ºC (25.4ºF)\\nwinds from the WNW at ...</td>\n",
       "      <td>2020-07-13</td>\n",
       "    </tr>\n",
       "    <tr>\n",
       "      <th>2</th>\n",
       "      <td>Mars Weather@MarsWxReport·Jul 13InSight sol 578 (2020-07-12) low -88.3ºC (-126.9ºF) high -5.2ºC ...</td>\n",
       "      <td>InSight sol 578 (2020-07-12) low -88.3ºC (-126.9ºF) high -5.2ºC (22.7ºF)\\nwinds from the WNW at ...</td>\n",
       "      <td>2020-07-12</td>\n",
       "    </tr>\n",
       "    <tr>\n",
       "      <th>4</th>\n",
       "      <td>Mars Weather@MarsWxReport·Jul 1InSight sol 566 (2020-06-29) low -88.4ºC (-127.1ºF) high -4.2ºC (...</td>\n",
       "      <td>InSight sol 566 (2020-06-29) low -88.4ºC (-127.1ºF) high -4.2ºC (24.4ºF)\\nwinds from the WNW at ...</td>\n",
       "      <td>2020-06-29</td>\n",
       "    </tr>\n",
       "    <tr>\n",
       "      <th>7</th>\n",
       "      <td>Mars Weather@MarsWxReport·Jun 30InSight sol 565 (2020-06-28) low -89.6ºC (-129.3ºF) high -5.0ºC ...</td>\n",
       "      <td>InSight sol 565 (2020-06-28) low -89.6ºC (-129.3ºF) high -5.0ºC (22.9ºF)\\nwinds from the WNW at ...</td>\n",
       "      <td>2020-06-28</td>\n",
       "    </tr>\n",
       "    <tr>\n",
       "      <th>8</th>\n",
       "      <td>Mars Weather@MarsWxReport·Jun 28InSight sol 564 (2020-06-28) low -89.3ºC (-128.8ºF) high -4.3ºC ...</td>\n",
       "      <td>InSight sol 564 (2020-06-28) low -89.3ºC (-128.8ºF) high -4.3ºC (24.2ºF)\\nwinds from the SSW at ...</td>\n",
       "      <td>2020-06-28</td>\n",
       "    </tr>\n",
       "    <tr>\n",
       "      <th>9</th>\n",
       "      <td>Mars Weather@MarsWxReport·Jun 27InSight sol 563 (2020-06-27) low -89.5ºC (-129.1ºF) high -3.9ºC ...</td>\n",
       "      <td>InSight sol 563 (2020-06-27) low -89.5ºC (-129.1ºF) high -3.9ºC (25.0ºF)\\nwinds from the SW at 5...</td>\n",
       "      <td>2020-06-27</td>\n",
       "    </tr>\n",
       "  </tbody>\n",
       "</table>\n",
       "</div>"
      ],
      "text/plain": [
       "                                                                                                 tweet  \\\n",
       "0  Mars Weather@MarsWxReport·Jul 15InSight sol 580 (2020-07-14) low -88.8ºC (-127.8ºF) high -8.4ºC ...   \n",
       "1  Mars Weather@MarsWxReport·Jul 14InSight sol 579 (2020-07-13) low -88.5ºC (-127.4ºF) high -3.7ºC ...   \n",
       "2  Mars Weather@MarsWxReport·Jul 13InSight sol 578 (2020-07-12) low -88.3ºC (-126.9ºF) high -5.2ºC ...   \n",
       "4  Mars Weather@MarsWxReport·Jul 1InSight sol 566 (2020-06-29) low -88.4ºC (-127.1ºF) high -4.2ºC (...   \n",
       "7  Mars Weather@MarsWxReport·Jun 30InSight sol 565 (2020-06-28) low -89.6ºC (-129.3ºF) high -5.0ºC ...   \n",
       "8  Mars Weather@MarsWxReport·Jun 28InSight sol 564 (2020-06-28) low -89.3ºC (-128.8ºF) high -4.3ºC ...   \n",
       "9  Mars Weather@MarsWxReport·Jun 27InSight sol 563 (2020-06-27) low -89.5ºC (-129.1ºF) high -3.9ºC ...   \n",
       "\n",
       "                                                                                               weather  \\\n",
       "0  InSight sol 580 (2020-07-14) low -88.8ºC (-127.8ºF) high -8.4ºC (16.8ºF)\\nwinds from the WNW at ...   \n",
       "1  InSight sol 579 (2020-07-13) low -88.5ºC (-127.4ºF) high -3.7ºC (25.4ºF)\\nwinds from the WNW at ...   \n",
       "2  InSight sol 578 (2020-07-12) low -88.3ºC (-126.9ºF) high -5.2ºC (22.7ºF)\\nwinds from the WNW at ...   \n",
       "4  InSight sol 566 (2020-06-29) low -88.4ºC (-127.1ºF) high -4.2ºC (24.4ºF)\\nwinds from the WNW at ...   \n",
       "7  InSight sol 565 (2020-06-28) low -89.6ºC (-129.3ºF) high -5.0ºC (22.9ºF)\\nwinds from the WNW at ...   \n",
       "8  InSight sol 564 (2020-06-28) low -89.3ºC (-128.8ºF) high -4.3ºC (24.2ºF)\\nwinds from the SSW at ...   \n",
       "9  InSight sol 563 (2020-06-27) low -89.5ºC (-129.1ºF) high -3.9ºC (25.0ºF)\\nwinds from the SW at 5...   \n",
       "\n",
       "        date  \n",
       "0 2020-07-14  \n",
       "1 2020-07-13  \n",
       "2 2020-07-12  \n",
       "4 2020-06-29  \n",
       "7 2020-06-28  \n",
       "8 2020-06-28  \n",
       "9 2020-06-27  "
      ]
     },
     "execution_count": 539,
     "metadata": {},
     "output_type": "execute_result"
    }
   ],
   "source": [
    "# Extracting the date from the weather column and saving in a new date column, which now shows the date the weather relates to\n",
    "weather_tweets['date'] = pd.to_datetime(weather_tweets['weather'].apply(lambda x: re.search('\\((\\d{4}-\\d{2}-\\d{2})\\)', x).group(1)))\n",
    "weather_tweets"
   ]
  },
  {
   "cell_type": "code",
   "execution_count": 540,
   "metadata": {},
   "outputs": [
    {
     "name": "stdout",
     "output_type": "stream",
     "text": [
      "The latest weather on Mars is:                                                                                                                                                                       weather\n",
      "0  InSight sol 580 (2020-07-14) low -88.8ºC (-127.8ºF) high -8.4ºC (16.8ºF)\\nwinds from the WNW at 5.9 m/s (13.3 mph) gusting to 15.4 m/s (34.4 mph)\\npressure at 7.80 hPa414\n"
     ]
    }
   ],
   "source": [
    "# Getting the maximum / latest date and printing that date's weather\n",
    "pd.options.display.max_colwidth = 200\n",
    "latest_weather = weather_tweets[weather_tweets.date == weather_tweets.date.max()].weather.to_frame()\n",
    "print(f'The latest weather on Mars is: {latest_weather}')"
   ]
  },
  {
   "cell_type": "markdown",
   "metadata": {},
   "source": [
    "### Mars Facts ###"
   ]
  },
  {
   "cell_type": "code",
   "execution_count": 541,
   "metadata": {},
   "outputs": [
    {
     "data": {
      "text/html": [
       "<div>\n",
       "<style scoped>\n",
       "    .dataframe tbody tr th:only-of-type {\n",
       "        vertical-align: middle;\n",
       "    }\n",
       "\n",
       "    .dataframe tbody tr th {\n",
       "        vertical-align: top;\n",
       "    }\n",
       "\n",
       "    .dataframe thead th {\n",
       "        text-align: right;\n",
       "    }\n",
       "</style>\n",
       "<table border=\"1\" class=\"dataframe\">\n",
       "  <thead>\n",
       "    <tr style=\"text-align: right;\">\n",
       "      <th></th>\n",
       "      <th>Facts</th>\n",
       "      <th>Value</th>\n",
       "    </tr>\n",
       "  </thead>\n",
       "  <tbody>\n",
       "    <tr>\n",
       "      <th>0</th>\n",
       "      <td>Equatorial Diameter:</td>\n",
       "      <td>6,792 km</td>\n",
       "    </tr>\n",
       "    <tr>\n",
       "      <th>1</th>\n",
       "      <td>Polar Diameter:</td>\n",
       "      <td>6,752 km</td>\n",
       "    </tr>\n",
       "    <tr>\n",
       "      <th>2</th>\n",
       "      <td>Mass:</td>\n",
       "      <td>6.39 × 10^23 kg (0.11 Earths)</td>\n",
       "    </tr>\n",
       "    <tr>\n",
       "      <th>3</th>\n",
       "      <td>Moons:</td>\n",
       "      <td>2 (Phobos &amp; Deimos)</td>\n",
       "    </tr>\n",
       "    <tr>\n",
       "      <th>4</th>\n",
       "      <td>Orbit Distance:</td>\n",
       "      <td>227,943,824 km (1.38 AU)</td>\n",
       "    </tr>\n",
       "    <tr>\n",
       "      <th>5</th>\n",
       "      <td>Orbit Period:</td>\n",
       "      <td>687 days (1.9 years)</td>\n",
       "    </tr>\n",
       "    <tr>\n",
       "      <th>6</th>\n",
       "      <td>Surface Temperature:</td>\n",
       "      <td>-87 to -5 °C</td>\n",
       "    </tr>\n",
       "    <tr>\n",
       "      <th>7</th>\n",
       "      <td>First Record:</td>\n",
       "      <td>2nd millennium BC</td>\n",
       "    </tr>\n",
       "    <tr>\n",
       "      <th>8</th>\n",
       "      <td>Recorded By:</td>\n",
       "      <td>Egyptian astronomers</td>\n",
       "    </tr>\n",
       "  </tbody>\n",
       "</table>\n",
       "</div>"
      ],
      "text/plain": [
       "                  Facts                          Value\n",
       "0  Equatorial Diameter:                       6,792 km\n",
       "1       Polar Diameter:                       6,752 km\n",
       "2                 Mass:  6.39 × 10^23 kg (0.11 Earths)\n",
       "3                Moons:            2 (Phobos & Deimos)\n",
       "4       Orbit Distance:       227,943,824 km (1.38 AU)\n",
       "5         Orbit Period:           687 days (1.9 years)\n",
       "6  Surface Temperature:                   -87 to -5 °C\n",
       "7         First Record:              2nd millennium BC\n",
       "8          Recorded By:           Egyptian astronomers"
      ]
     },
     "execution_count": 541,
     "metadata": {},
     "output_type": "execute_result"
    }
   ],
   "source": [
    "# Creating a table of the Marks Planet Profile table, from the following URL\n",
    "space_facts_url = \"https://space-facts.com/mars/\"\n",
    "mars_profile_profile = pd.read_html(space_facts_url)\n",
    "table[0]\n",
    "table[0].columns = [\"Facts\", \"Value\"]\n",
    "table[0]"
   ]
  },
  {
   "cell_type": "code",
   "execution_count": 542,
   "metadata": {},
   "outputs": [
    {
     "data": {
      "text/plain": [
       "'<table border=\"1\" class=\"dataframe\">  <thead>    <tr style=\"text-align: right;\">      <th></th>      <th>Facts</th>      <th>Value</th>    </tr>  </thead>  <tbody>    <tr>      <th>0</th>      <td>Equatorial Diameter:</td>      <td>6,792 km</td>    </tr>    <tr>      <th>1</th>      <td>Polar Diameter:</td>      <td>6,752 km</td>    </tr>    <tr>      <th>2</th>      <td>Mass:</td>      <td>6.39 × 10^23 kg (0.11 Earths)</td>    </tr>    <tr>      <th>3</th>      <td>Moons:</td>      <td>2 (Phobos &amp; Deimos)</td>    </tr>    <tr>      <th>4</th>      <td>Orbit Distance:</td>      <td>227,943,824 km (1.38 AU)</td>    </tr>    <tr>      <th>5</th>      <td>Orbit Period:</td>      <td>687 days (1.9 years)</td>    </tr>    <tr>      <th>6</th>      <td>Surface Temperature:</td>      <td>-87 to -5 °C</td>    </tr>    <tr>      <th>7</th>      <td>First Record:</td>      <td>2nd millennium BC</td>    </tr>    <tr>      <th>8</th>      <td>Recorded By:</td>      <td>Egyptian astronomers</td>    </tr>  </tbody></table>'"
      ]
     },
     "execution_count": 542,
     "metadata": {},
     "output_type": "execute_result"
    }
   ],
   "source": [
    "# Converting the table into an HTML table string.\n",
    "HTML_table_string = table[0].to_html()\n",
    "HTML_table_string = HTML_table_string.replace(\"\\n\",\"\")\n",
    "HTML_table_string"
   ]
  },
  {
   "cell_type": "markdown",
   "metadata": {},
   "source": [
    "### Mars Hemispheres: ###"
   ]
  },
  {
   "cell_type": "code",
   "execution_count": 543,
   "metadata": {},
   "outputs": [],
   "source": [
    "# A list to store my image URLS\n",
    "mars_hemisphere_image_urls = []"
   ]
  },
  {
   "cell_type": "code",
   "execution_count": 544,
   "metadata": {},
   "outputs": [],
   "source": [
    "url = ('https://astrogeology.usgs.gov/search/results?q=hemisphere+enhanced&k1=target&v1=Mars')\n",
    "\n",
    "# I originally had this 'boilerplate code' as such, however subsequently could decided to inc. this in my for loop\n",
    "# browser.visit(image_url)\n",
    "# html = browser.html\n",
    "# soup = BeautifulSoup(html, \"html.parser\")"
   ]
  },
  {
   "cell_type": "code",
   "execution_count": null,
   "metadata": {},
   "outputs": [],
   "source": [
    "# previewing the output.\n",
    "print(soup.prettify())"
   ]
  },
  {
   "cell_type": "code",
   "execution_count": 547,
   "metadata": {},
   "outputs": [
    {
     "name": "stderr",
     "output_type": "stream",
     "text": [
      "/Users/williamforsyth/anaconda3/envs/DataScience/lib/python3.7/site-packages/splinter/driver/webdriver/__init__.py:536: FutureWarning: browser.find_link_by_text is deprecated. Use browser.links.find_by_text instead.\n",
      "  FutureWarning,\n"
     ]
    },
    {
     "name": "stdout",
     "output_type": "stream",
     "text": [
      "Cerberus Hemisphere \n",
      "https://astropedia.astrogeology.usgs.gov/download/Mars/Viking/cerberus_enhanced.tif/full.jpg\n",
      "Schiaparelli Hemisphere \n",
      "https://astropedia.astrogeology.usgs.gov/download/Mars/Viking/schiaparelli_enhanced.tif/full.jpg\n",
      "Syrtis Major Hemisphere \n",
      "https://astropedia.astrogeology.usgs.gov/download/Mars/Viking/syrtis_major_enhanced.tif/full.jpg\n",
      "Valles Marineris Hemisphere \n",
      "https://astropedia.astrogeology.usgs.gov/download/Mars/Viking/valles_marineris_enhanced.tif/full.jpg\n"
     ]
    }
   ],
   "source": [
    "# For loop to iterate through each image and print the title and the link\n",
    "for i in range(1,9,2):\n",
    "\n",
    "    # dictionary to store data using 'img_url' and 'title' keys\n",
    "    hemi_dict = {}\n",
    "    \n",
    "    # initiating each loop with my boilerplate code     \n",
    "    browser.visit(url)\n",
    "    time.sleep(1)\n",
    "    html = browser.html\n",
    "    soup = BeautifulSoup(html, 'html.parser')\n",
    "    \n",
    "    # using beautiful soup to identify each hemisphere's enhanced name link     \n",
    "    hemisphere_name_link = soup.find_all('a', class_='product-item')\n",
    "    hemisphere_name = hemisphere_name_link[i].text.strip('Enhanced')\n",
    "    \n",
    "    # Using 1 (CSS) of the 6 elements that splinter allows, in order to find each product item <a> / hyperlink\n",
    "    hemisphere_detail_links = browser.find_by_css('a.product-item')\n",
    "    # Using .click function to interact / click the link     \n",
    "    hemisphere_detail_links[i].click()\n",
    "    # sleep timer to prevent timeout.     \n",
    "    time.sleep(1)\n",
    "    # Each hemisphere has a 'Sample' and 'Original' link to it's respective image. I use the 'Sample', to download a 1024px wide hemisphere image.   \n",
    "    browser.find_link_by_text('Sample').first.click()\n",
    "    # sleep timer to prevent timeout. \n",
    "    time.sleep(1)\n",
    "    \n",
    "    #      \n",
    "    browser.windows.current = browser.windows[-1]\n",
    "    hemi_img_html = browser.html\n",
    "    browser.windows.current = browser.windows[0]\n",
    "    browser.windows[-1].close()\n",
    "    \n",
    "    hemi_img_soup = BeautifulSoup(hemi_img_html, 'html.parser')\n",
    "    hemi_img_path = hemi_img_soup.find('img')['src']\n",
    "    \n",
    "    print(hemi_name)\n",
    "    hemi_dict['title'] = hemi_name.strip()\n",
    "    \n",
    "    print(hemi_img_path)\n",
    "    hemi_dict['img_url'] = hemi_img_path\n",
    "\n",
    "    hemi_dicts.append(hemi_dict)"
   ]
  },
  {
   "cell_type": "code",
   "execution_count": null,
   "metadata": {},
   "outputs": [],
   "source": []
  },
  {
   "cell_type": "code",
   "execution_count": null,
   "metadata": {},
   "outputs": [],
   "source": []
  }
 ],
 "metadata": {
  "kernelspec": {
   "display_name": "Python 3",
   "language": "python",
   "name": "python3"
  },
  "language_info": {
   "codemirror_mode": {
    "name": "ipython",
    "version": 3
   },
   "file_extension": ".py",
   "mimetype": "text/x-python",
   "name": "python",
   "nbconvert_exporter": "python",
   "pygments_lexer": "ipython3",
   "version": "3.7.7"
  }
 },
 "nbformat": 4,
 "nbformat_minor": 4
}
